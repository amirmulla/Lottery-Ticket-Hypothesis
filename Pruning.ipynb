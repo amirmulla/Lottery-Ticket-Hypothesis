{
  "nbformat": 4,
  "nbformat_minor": 0,
  "metadata": {
    "colab": {
      "name": "Pruning.ipynb",
      "provenance": [],
      "collapsed_sections": [],
      "authorship_tag": "ABX9TyPZwFumwTejplDH7Fw60/aT"
    },
    "kernelspec": {
      "name": "python3",
      "display_name": "Python 3"
    }
  },
  "cells": [
    {
      "cell_type": "code",
      "metadata": {
        "colab": {
          "base_uri": "https://localhost:8080/"
        },
        "id": "XANyvg-VPNOa",
        "outputId": "f7783090-101e-42c2-ae18-a93d53e4356d"
      },
      "source": [
        "print(\"Amir Mulla.\")\n",
        "\n",
        "\n",
        "print(\"00000\")"
      ],
      "execution_count": 3,
      "outputs": [
        {
          "output_type": "stream",
          "text": [
            "Amir Mulla.\n",
            "00000\n"
          ],
          "name": "stdout"
        }
      ]
    }
  ]
}