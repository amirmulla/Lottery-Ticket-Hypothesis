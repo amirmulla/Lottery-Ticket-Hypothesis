{
  "nbformat": 4,
  "nbformat_minor": 0,
  "metadata": {
    "colab": {
      "name": "Pruning.ipynb",
      "provenance": [],
      "collapsed_sections": [],
      "authorship_tag": "ABX9TyOc47B/mQnLZQxkPMota0fy"
    },
    "kernelspec": {
      "name": "python3",
      "display_name": "Python 3"
    }
  },
  "cells": [
    {
      "cell_type": "code",
      "metadata": {
        "colab": {
          "base_uri": "https://localhost:8080/"
        },
        "id": "XANyvg-VPNOa",
        "outputId": "df99d210-b030-4772-e798-5d881c5426b7"
      },
      "source": [
        "print(\"Amir Mulla.\")"
      ],
      "execution_count": 2,
      "outputs": [
        {
          "output_type": "stream",
          "text": [
            "Amir Mulla.\n"
          ],
          "name": "stdout"
        }
      ]
    }
  ]
}